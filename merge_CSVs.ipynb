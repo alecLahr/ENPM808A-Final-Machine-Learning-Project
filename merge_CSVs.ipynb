{
 "cells": [
  {
   "cell_type": "code",
   "execution_count": 4,
   "metadata": {},
   "outputs": [],
   "source": [
    "import pandas as pd\n",
    "from os import listdir"
   ]
  },
  {
   "cell_type": "code",
   "execution_count": 5,
   "metadata": {},
   "outputs": [],
   "source": [
    "# return a list of all filesnames in a directory\n",
    "def find_csv_filenames(path_to_dir, suffix=\".csv\" ):\n",
    "    filenames_ = listdir(path_to_dir)\n",
    "    return [ filename_ for filename_ in filenames_ if filename_.endswith( suffix ) ]"
   ]
  },
  {
   "cell_type": "code",
   "execution_count": 7,
   "metadata": {},
   "outputs": [],
   "source": [
    "# create a merged csv of all training data\n",
    "paths = ['Training_Clean/corridor_CSV/', 'Training_Clean/Open_Box_CSV_files/', 'Training_Clean/special_CSV/']\n",
    "first = True\n",
    "for path in paths:\n",
    "    filenames = find_csv_filenames(path)\n",
    "    for name in filenames:\n",
    "        if first:\n",
    "            df_train = pd.read_csv(path + name)\n",
    "            first = False\n",
    "        else:\n",
    "            df_train = pd.concat([df_train, pd.read_csv(path + name)], ignore_index=True)\n",
    "\n",
    "# shuffle order of the data\n",
    "df_train = df_train.sample(frac=1).reset_index(drop=True)\n",
    "\n",
    "# noramlize the inputs\n",
    "cols_to_norm = [\"-135:-105\", \"-105:-75\", \"-75:-45\", \"-45:-15\", \"-15:+15\", \"15:45\", \"45:75\", \"75:105\", \"105:135\", \"dx\", \"dy\", \"dqk\", \"dqr\"]\n",
    "df_train[cols_to_norm] = df_train[cols_to_norm].apply(lambda x: (x - x.min()) / (x.max() - x.min()))\n",
    "\n",
    "# export to csv\n",
    "df_train.to_csv('training_data.csv', index=False)"
   ]
  },
  {
   "cell_type": "code",
   "execution_count": 8,
   "metadata": {},
   "outputs": [],
   "source": [
    "# create a merged csv of all testing data\n",
    "paths = ['Testing_Clean/']\n",
    "first = True\n",
    "for path in paths:\n",
    "    filenames = find_csv_filenames(path)\n",
    "    for name in filenames:\n",
    "        if first:\n",
    "            df_test = pd.read_csv(path + name)\n",
    "            first = False\n",
    "        else:\n",
    "            df_test = pd.concat([df_test, pd.read_csv(path + name)], ignore_index=True)\n",
    "\n",
    "# shuffle order of the data\n",
    "df_test = df_test.sample(frac=1).reset_index(drop=True)\n",
    "\n",
    "# noramlize the inputs\n",
    "cols_to_norm = [\"-135:-105\", \"-105:-75\", \"-75:-45\", \"-45:-15\", \"-15:+15\", \"15:45\", \"45:75\", \"75:105\", \"105:135\", \"dx\", \"dy\", \"dqk\", \"dqr\"]\n",
    "df_test[cols_to_norm] = df_test[cols_to_norm].apply(lambda x: (x - x.min()) / (x.max() - x.min()))\n",
    "\n",
    "# export to csv\n",
    "df_test.to_csv('testing_data.csv', index=False)"
   ]
  }
 ],
 "metadata": {
  "interpreter": {
   "hash": "e36490298f94e073f2db7ad1d852225e2e107f56e2fbb8834d2bd91d06aa6a3a"
  },
  "kernelspec": {
   "display_name": "Python 3.9.7 64-bit ('ML_1': conda)",
   "language": "python",
   "name": "python3"
  },
  "language_info": {
   "codemirror_mode": {
    "name": "ipython",
    "version": 3
   },
   "file_extension": ".py",
   "mimetype": "text/x-python",
   "name": "python",
   "nbconvert_exporter": "python",
   "pygments_lexer": "ipython3",
   "version": "3.9.7"
  },
  "orig_nbformat": 4
 },
 "nbformat": 4,
 "nbformat_minor": 2
}
