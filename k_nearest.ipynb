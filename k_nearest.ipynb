{
 "cells": [
  {
   "cell_type": "code",
   "execution_count": 1,
   "metadata": {},
   "outputs": [],
   "source": [
    "from sklearn.neighbors import KNeighborsRegressor\n",
    "from sklearn.metrics import mean_squared_error\n",
    "from pandas import read_csv\n",
    "import time"
   ]
  },
  {
   "cell_type": "code",
   "execution_count": 2,
   "metadata": {},
   "outputs": [],
   "source": [
    "# load the dataset\n",
    "def load_data(filepath, sample=1):\n",
    "    df = read_csv(filepath)\n",
    "    df = df.sample(frac=sample, random_state=1)\n",
    "    x = df.iloc[:, :13]\n",
    "    y = df.iloc[:, 13:]\n",
    "    return x, y\n",
    "\n",
    "# x_train, y_train = load_data('training_data.csv', sample=0.05)\n",
    "x_test, y_test = load_data('testing_data.csv', sample=0.1)"
   ]
  },
  {
   "cell_type": "code",
   "execution_count": 8,
   "metadata": {},
   "outputs": [
    {
     "name": "stdout",
     "output_type": "stream",
     "text": [
      "Testing MSE for frac 1 and neighbors 500 : 0.053604391142749105\n",
      "Testing MSE for frac 1 and neighbors 1000 : 0.053735585672117225\n",
      "Testing MSE for frac 1 and neighbors 1500 : 0.054483904256598964\n",
      "Testing MSE for frac 1 and neighbors 2000 : 0.05531392619711683\n",
      "\n"
     ]
    }
   ],
   "source": [
    "train_frac = [0.005, 0.01, 0.05, 0.1, 0.15]\n",
    "neighbors = [3, 10, 30, 50, 120, 300]\n",
    "\n",
    "for t in train_frac:\n",
    "    for n in neighbors:\n",
    "\n",
    "        x_train, y_train = load_data('training_data.csv', sample=t)\n",
    "\n",
    "        model = KNeighborsRegressor(n_neighbors=n, weights='distance')\n",
    "        model.fit(x_train, y_train)\n",
    "\n",
    "        y_pred = model.predict(x_test)\n",
    "        mse = mean_squared_error(y_test, y_pred)\n",
    "        print(\"Testing MSE for frac {0} and neighbors {1} : {2}\".format(t, n, mse))\n",
    "\n",
    "    print(\"\")"
   ]
  },
  {
   "cell_type": "code",
   "execution_count": 7,
   "metadata": {},
   "outputs": [
    {
     "data": {
      "text/plain": [
       "KNeighborsRegressor(n_neighbors=50, weights='distance')"
      ]
     },
     "execution_count": 7,
     "metadata": {},
     "output_type": "execute_result"
    }
   ],
   "source": [
    "# test single query time\n",
    "t = 0.1\n",
    "n = 50\n",
    "\n",
    "x_train, y_train = load_data('training_data.csv', sample=t)\n",
    "\n",
    "model = KNeighborsRegressor(n_neighbors=n, weights='distance')\n",
    "model.fit(x_train, y_train)\n",
    "\n",
    "start = time.process_time()\n",
    "y_pred = model.predict(x_test)\n",
    "print(\"Time per query = {0}\".format((time.process_time() - start) / x_test.shape[0]))"
   ]
  }
 ],
 "metadata": {
  "interpreter": {
   "hash": "3b917ed38a7b57e8e6aae24f5db6cbe9bd135e2dc3c20fe8caa9e927e95ca034"
  },
  "kernelspec": {
   "display_name": "Python 3.7.11 64-bit ('ML_2': conda)",
   "language": "python",
   "name": "python3"
  },
  "language_info": {
   "codemirror_mode": {
    "name": "ipython",
    "version": 3
   },
   "file_extension": ".py",
   "mimetype": "text/x-python",
   "name": "python",
   "nbconvert_exporter": "python",
   "pygments_lexer": "ipython3",
   "version": "3.7.11"
  },
  "orig_nbformat": 4
 },
 "nbformat": 4,
 "nbformat_minor": 2
}
